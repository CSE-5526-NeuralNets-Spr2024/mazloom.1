{
  "cells": [
    {
      "cell_type": "markdown",
      "metadata": {
        "id": "ovpZyIhNIgoq"
      },
      "source": [
        "# Text generation with an RNN"
      ]
    },
    {
      "cell_type": "markdown",
      "metadata": {
        "id": "HcygKkEVZBaa"
      },
      "source": [
        "<pre>\n",
        "QUEENE:\n",
        "I had thought thou hadst a Roman; for the oracle,\n",
        "Thus by All bids the man against the word,\n",
        "Which are so weak of care, by old care done;\n",
        "Your children were in your holy love,\n",
        "And the precipitation through the bleeding throne.\n",
        "\n",
        "BISHOP OF ELY:\n",
        "Marry, and will, my lord, to weep in such a one were prettiest;\n",
        "Yet now I was adopted heir\n",
        "Of the world's lamentable day,\n",
        "To watch the next way with his father with his face?\n",
        "\n",
        "ESCALUS:\n",
        "The cause why then we are all resolved more sons.\n",
        "\n",
        "VOLUMNIA:\n",
        "O, no, no, no, no, no, no, no, no, no, no, no, no, no, no, no, no, no, no, no, no, it is no sin it should be dead,\n",
        "And love and pale as any will to that word.\n",
        "\n",
        "QUEEN ELIZABETH:\n",
        "But how long have I heard the soul for this world,\n",
        "And show his hands of life be proved to stand.\n",
        "\n",
        "PETRUCHIO:\n",
        "I say he look'd on, if I must be content\n",
        "To stay him from the fatal of our country's bliss.\n",
        "His lordship pluck'd from this sentence then for prey,\n",
        "And then let us twain, being the moon,\n",
        "were she such a case as fills m\n",
        "</pre>"
      ]
    },
    {
      "cell_type": "markdown",
      "metadata": {
        "id": "_bGsCP9DZFQ5"
      },
      "source": [
        "While some of the sentences are grammatical, most do not make sense. The model has not learned the meaning of words, but consider:\n",
        "\n",
        "* The model is character-based. When training started, the model did not know how to spell an English word, or that words were even a unit of text.\n",
        "\n",
        "* The structure of the output resembles a play—blocks of text generally begin with a speaker name, in all capital letters similar to the dataset.\n",
        "\n",
        "* As demonstrated below, the model is trained on small batches of text (100 characters each), and is still able to generate a longer sequence of text with coherent structure."
      ]
    },
    {
      "cell_type": "markdown",
      "metadata": {
        "id": "srXC6pLGLwS6"
      },
      "source": [
        "## Setup"
      ]
    },
    {
      "cell_type": "markdown",
      "metadata": {
        "id": "WGyKZj3bzf9p"
      },
      "source": [
        "### Import TensorFlow and other libraries"
      ]
    },
    {
      "cell_type": "code",
      "execution_count": null,
      "metadata": {
        "id": "yG_n40gFzf9s"
      },
      "outputs": [],
      "source": [
        "import tensorflow as tf\n",
        "\n",
        "import numpy as np\n",
        "import os\n",
        "import time"
      ]
    },
    {
      "cell_type": "markdown",
      "metadata": {
        "id": "EHDoRoc5PKWz"
      },
      "source": [
        "### Download the Shakespeare dataset\n",
        "\n",
        "Change the following line to run this code on your own data."
      ]
    },
    {
      "cell_type": "code",
      "execution_count": null,
      "metadata": {
        "id": "pD_55cOxLkAb",
        "colab": {
          "base_uri": "https://localhost:8080/"
        },
        "outputId": "b70bcdc3-dec2-4cbb-dbee-1f082339fdfe"
      },
      "outputs": [
        {
          "output_type": "stream",
          "name": "stdout",
          "text": [
            "Downloading data from https://storage.googleapis.com/download.tensorflow.org/data/shakespeare.txt\n",
            "1115394/1115394 [==============================] - 0s 0us/step\n"
          ]
        }
      ],
      "source": [
        "path_to_file = tf.keras.utils.get_file('shakespeare.txt', 'https://storage.googleapis.com/download.tensorflow.org/data/shakespeare.txt')"
      ]
    },
    {
      "cell_type": "code",
      "execution_count": null,
      "metadata": {
        "id": "aavnuByVymwK",
        "colab": {
          "base_uri": "https://localhost:8080/"
        },
        "outputId": "c6b81550-ea79-4031-976a-05eebdceb91a"
      },
      "outputs": [
        {
          "output_type": "stream",
          "name": "stdout",
          "text": [
            "Length of text: 1115394 characters\n"
          ]
        }
      ],
      "source": [
        "# Read, then decode for py2 compat.\n",
        "text = open(path_to_file, 'rb').read().decode(encoding='utf-8')\n",
        "# length of text is the number of characters in it\n",
        "print(f'Length of text: {len(text)} characters')"
      ]
    },
    {
      "cell_type": "code",
      "execution_count": null,
      "metadata": {
        "id": "IlCgQBRVymwR",
        "colab": {
          "base_uri": "https://localhost:8080/"
        },
        "outputId": "dbf4b4c5-224c-4a4d-dc5d-a5ebd73cfb60"
      },
      "outputs": [
        {
          "output_type": "stream",
          "name": "stdout",
          "text": [
            "65 unique characters\n"
          ]
        }
      ],
      "source": [
        "# The unique characters in the file\n",
        "vocab = sorted(set(text))\n",
        "print(f'{len(vocab)} unique characters')"
      ]
    },
    {
      "cell_type": "markdown",
      "metadata": {
        "id": "rNnrKn_lL-IJ"
      },
      "source": [
        "## Process the text"
      ]
    },
    {
      "cell_type": "code",
      "execution_count": null,
      "metadata": {
        "id": "w5apvBDn9Ind"
      },
      "outputs": [],
      "source": [
        "ids_from_chars = tf.keras.layers.StringLookup(\n",
        "    vocabulary=list(vocab), mask_token=None)\n",
        "\n",
        "chars_from_ids = tf.keras.layers.StringLookup(\n",
        "    vocabulary=ids_from_chars.get_vocabulary(), invert=True, mask_token=None)\n",
        "\n",
        "def text_from_ids(ids):\n",
        "  return tf.strings.reduce_join(chars_from_ids(ids), axis=-1)"
      ]
    },
    {
      "cell_type": "code",
      "execution_count": null,
      "metadata": {
        "id": "UopbsKi88tm5"
      },
      "outputs": [],
      "source": [
        "all_ids = ids_from_chars(tf.strings.unicode_split(text, 'UTF-8'))\n",
        "\n",
        "ids_dataset = tf.data.Dataset.from_tensor_slices(all_ids)\n",
        "\n",
        "seq_length = 100\n",
        "\n",
        "sequences = ids_dataset.batch(seq_length+1, drop_remainder=True)"
      ]
    },
    {
      "cell_type": "code",
      "execution_count": null,
      "metadata": {
        "id": "9NGu-FkO_kYU"
      },
      "outputs": [],
      "source": [
        "def split_input_target(sequence):\n",
        "    input_text = sequence[:-1]\n",
        "    target_text = sequence[1:]\n",
        "    return input_text, target_text\n",
        "\n",
        "dataset = sequences.map(split_input_target)"
      ]
    },
    {
      "cell_type": "code",
      "execution_count": null,
      "metadata": {
        "id": "p2pGotuNzf-S"
      },
      "outputs": [],
      "source": [
        "# Batch size\n",
        "BATCH_SIZE = 64\n",
        "\n",
        "# Buffer size to shuffle the dataset\n",
        "# (TF data is designed to work with possibly infinite sequences,\n",
        "# so it doesn't attempt to shuffle the entire sequence in memory. Instead,\n",
        "# it maintains a buffer in which it shuffles elements).\n",
        "BUFFER_SIZE = 10000\n",
        "\n",
        "dataset = (\n",
        "    dataset\n",
        "    .shuffle(BUFFER_SIZE)\n",
        "    .batch(BATCH_SIZE, drop_remainder=True)\n",
        "    .prefetch(tf.data.experimental.AUTOTUNE))\n"
      ]
    },
    {
      "cell_type": "markdown",
      "source": [
        "# One RNN layer"
      ],
      "metadata": {
        "id": "B1X5C7bNw_hN"
      }
    },
    {
      "cell_type": "code",
      "execution_count": null,
      "metadata": {
        "id": "wj8HQ2w8z4iO"
      },
      "outputs": [],
      "source": [
        "class MyModel(tf.keras.Model):\n",
        "  def __init__(self, vocab_size, embedding_dim, rnn_units):\n",
        "    super().__init__(self)\n",
        "    self.embedding = tf.keras.layers.Embedding(vocab_size, embedding_dim)\n",
        "    self.gru = tf.keras.layers.GRU(rnn_units,\n",
        "                                   return_sequences=True,\n",
        "                                   return_state=True)\n",
        "    self.dense = tf.keras.layers.Dense(vocab_size)\n",
        "\n",
        "  def call(self, inputs, states=None, return_state=False, training=False):\n",
        "    x = inputs\n",
        "    x = self.embedding(x, training=training)\n",
        "    if states is None:\n",
        "      states = self.gru.get_initial_state(x)\n",
        "    x, states = self.gru(x, initial_state=states, training=training)\n",
        "    x = self.dense(x, training=training)\n",
        "\n",
        "    if return_state:\n",
        "      return x, states\n",
        "    else:\n",
        "      return x"
      ]
    },
    {
      "cell_type": "code",
      "execution_count": null,
      "metadata": {
        "id": "IX58Xj9z47Aw"
      },
      "outputs": [],
      "source": [
        "# Length of the vocabulary in StringLookup Layer\n",
        "vocab_size = len(ids_from_chars.get_vocabulary())\n",
        "\n",
        "# The embedding dimension\n",
        "embedding_dim = 256\n",
        "\n",
        "# Number of RNN units\n",
        "rnn_units = 1024\n",
        "\n",
        "model = MyModel(\n",
        "    vocab_size=vocab_size,\n",
        "    embedding_dim=embedding_dim,\n",
        "    rnn_units=rnn_units)"
      ]
    },
    {
      "cell_type": "markdown",
      "source": [
        "## 20 Epochs"
      ],
      "metadata": {
        "id": "GCkzQMrkxekX"
      }
    },
    {
      "cell_type": "markdown",
      "metadata": {
        "id": "LJL0Q0YPY6Ee"
      },
      "source": [
        "### Train the model\n",
        "\n",
        "\n"
      ]
    },
    {
      "cell_type": "code",
      "execution_count": null,
      "metadata": {
        "id": "UK-hmKjYVoll",
        "colab": {
          "base_uri": "https://localhost:8080/"
        },
        "outputId": "5f8f795c-e826-4e56-c2f5-1818066792e3"
      },
      "outputs": [
        {
          "output_type": "stream",
          "name": "stdout",
          "text": [
            "Epoch 1/20\n",
            "172/172 [==============================] - 27s 63ms/step - loss: 2.7340\n",
            "Epoch 2/20\n",
            "172/172 [==============================] - 12s 61ms/step - loss: 2.0002\n",
            "Epoch 3/20\n",
            "172/172 [==============================] - 12s 62ms/step - loss: 1.7305\n",
            "Epoch 4/20\n",
            "172/172 [==============================] - 13s 66ms/step - loss: 1.5683\n",
            "Epoch 5/20\n",
            "172/172 [==============================] - 12s 62ms/step - loss: 1.4662\n",
            "Epoch 6/20\n",
            "172/172 [==============================] - 12s 62ms/step - loss: 1.3964\n",
            "Epoch 7/20\n",
            "172/172 [==============================] - 12s 62ms/step - loss: 1.3426\n",
            "Epoch 8/20\n",
            "172/172 [==============================] - 12s 62ms/step - loss: 1.2976\n",
            "Epoch 9/20\n",
            "172/172 [==============================] - 13s 64ms/step - loss: 1.2568\n",
            "Epoch 10/20\n",
            "172/172 [==============================] - 13s 64ms/step - loss: 1.2181\n",
            "Epoch 11/20\n",
            "172/172 [==============================] - 12s 62ms/step - loss: 1.1802\n",
            "Epoch 12/20\n",
            "172/172 [==============================] - 13s 62ms/step - loss: 1.1400\n",
            "Epoch 13/20\n",
            "172/172 [==============================] - 13s 63ms/step - loss: 1.0992\n",
            "Epoch 14/20\n",
            "172/172 [==============================] - 12s 62ms/step - loss: 1.0546\n",
            "Epoch 15/20\n",
            "172/172 [==============================] - 12s 63ms/step - loss: 1.0079\n",
            "Epoch 16/20\n",
            "172/172 [==============================] - 12s 62ms/step - loss: 0.9589\n",
            "Epoch 17/20\n",
            "172/172 [==============================] - 12s 62ms/step - loss: 0.9075\n",
            "Epoch 18/20\n",
            "172/172 [==============================] - 12s 62ms/step - loss: 0.8540\n",
            "Epoch 19/20\n",
            "172/172 [==============================] - 12s 62ms/step - loss: 0.8022\n",
            "Epoch 20/20\n",
            "172/172 [==============================] - 12s 62ms/step - loss: 0.7516\n"
          ]
        }
      ],
      "source": [
        "model.compile(optimizer='adam',\n",
        "              loss=tf.losses.SparseCategoricalCrossentropy(from_logits=True))\n",
        "\n",
        "# Directory where the checkpoints will be saved\n",
        "checkpoint_dir = './training_checkpoints'\n",
        "# Name of the checkpoint files\n",
        "checkpoint_prefix = os.path.join(checkpoint_dir, \"ckpt_{epoch}\")\n",
        "\n",
        "\n",
        "checkpoint_callback = tf.keras.callbacks.ModelCheckpoint(\n",
        "    filepath=checkpoint_prefix,\n",
        "    save_weights_only=True)\n",
        "\n",
        "history = model.fit(dataset,\n",
        "                    epochs=20,\n",
        "                    callbacks=[checkpoint_callback])"
      ]
    },
    {
      "cell_type": "code",
      "source": [
        "# Plotting the learning curve\n",
        "import matplotlib.pyplot as plt\n",
        "\n",
        "plt.figure(figsize=(9, 6))\n",
        "plt.plot(history.history['loss'], label=' Loss')\n",
        "plt.title('Learning curve')\n",
        "plt.xlabel('Epoch')\n",
        "plt.ylabel('Loss')\n",
        "plt.legend()\n"
      ],
      "metadata": {
        "id": "ctSMUJQyvlZt",
        "colab": {
          "base_uri": "https://localhost:8080/"
        },
        "outputId": "540b8f68-3291-49d6-98dd-3abec429fcf6"
      },
      "execution_count": null,
      "outputs": [
        {
          "output_type": "execute_result",
          "data": {
            "text/plain": [
              "<matplotlib.legend.Legend at 0x7aa3500c3970>"
            ]
          },
          "metadata": {},
          "execution_count": 12
        },
        {
          "output_type": "display_data",
          "data": {
            "text/plain": [
              "<Figure size 900x600 with 1 Axes>"
            ],
            "image/png": "[encoded data removed]"
          },
          "metadata": {}
        }
      ]
    },
    {
      "cell_type": "markdown",
      "metadata": {
        "id": "kKkD5M6eoSiN"
      },
      "source": [
        "### Generate text"
      ]
    },
    {
      "cell_type": "code",
      "execution_count": null,
      "metadata": {
        "id": "iSBU1tHmlUSs"
      },
      "outputs": [],
      "source": [
        "class OneStep(tf.keras.Model):\n",
        "  def __init__(self, model, chars_from_ids, ids_from_chars, temperature=1.0):\n",
        "    super().__init__()\n",
        "    self.temperature = temperature\n",
        "    self.model = model\n",
        "    self.chars_from_ids = chars_from_ids\n",
        "    self.ids_from_chars = ids_from_chars\n",
        "\n",
        "    # Create a mask to prevent \"[UNK]\" from being generated.\n",
        "    skip_ids = self.ids_from_chars(['[UNK]'])[:, None]\n",
        "    sparse_mask = tf.SparseTensor(\n",
        "        # Put a -inf at each bad index.\n",
        "        values=[-float('inf')]*len(skip_ids),\n",
        "        indices=skip_ids,\n",
        "        # Match the shape to the vocabulary\n",
        "        dense_shape=[len(ids_from_chars.get_vocabulary())])\n",
        "    self.prediction_mask = tf.sparse.to_dense(sparse_mask)\n",
        "\n",
        "  @tf.function\n",
        "  def generate_one_step(self, inputs, states=None):\n",
        "    # Convert strings to token IDs.\n",
        "    input_chars = tf.strings.unicode_split(inputs, 'UTF-8')\n",
        "\n",
        "    input_ids = self.ids_from_chars(input_chars).to_tensor()\n",
        "    # Run the model.\n",
        "    # predicted_logits.shape is [batch, char, next_char_logits]\n",
        "    predicted_logits, states = self.model(inputs=input_ids, states=states,\n",
        "                                          return_state=True)\n",
        "    # Only use the last prediction.\n",
        "    predicted_logits = predicted_logits[:, -1, :]\n",
        "    predicted_logits = predicted_logits/self.temperature\n",
        "    # Apply the prediction mask: prevent \"[UNK]\" from being generated.\n",
        "    predicted_logits = predicted_logits + self.prediction_mask\n",
        "\n",
        "    # Sample the output logits to generate token IDs.\n",
        "    predicted_ids = tf.random.categorical(predicted_logits, num_samples=1)\n",
        "    predicted_ids = tf.squeeze(predicted_ids, axis=-1)\n",
        "\n",
        "    # Convert from token ids to characters\n",
        "    predicted_chars = self.chars_from_ids(predicted_ids)\n",
        "\n",
        "    # Return the characters and model state.\n",
        "    return predicted_chars, states\n",
        "\n",
        "one_step_model = OneStep(model, chars_from_ids, ids_from_chars)"
      ]
    },
    {
      "cell_type": "code",
      "execution_count": null,
      "metadata": {
        "id": "ZkLu7Y8UCMT7"
      },
      "outputs": [],
      "source": [
        "start = time.time()\n",
        "states = None\n",
        "\n",
        "outlist = ['ROMEO:', 'JULIET:','HAMLET:','MACBETH:', 'OTHELLO:']\n",
        "\n",
        "next_char = tf.constant(outlist)\n",
        "result = [next_char]\n",
        "\n",
        "for n in range(1000):\n",
        "  next_char, states = one_step_model.generate_one_step(next_char, states=states)\n",
        "  result.append(next_char)\n",
        "\n",
        "result = tf.strings.join(result)\n",
        "end = time.time()"
      ]
    },
    {
      "cell_type": "code",
      "source": [
        "for i,text in enumerate(result):\n",
        "  print(f'----------------------- Given name - {outlist[i]}-------------------------------------- ')\n",
        "  print(text.numpy().decode('utf-8'), '\\n\\n' + '_'*80)\n",
        "\n",
        "#print('\\nRun time:', end - start)"
      ],
      "metadata": {
        "id": "fEAByXfA07lR",
        "colab": {
          "base_uri": "https://localhost:8080/"
        },
        "outputId": "75159e6c-0a82-4cca-ecb2-aaa58e0c86de"
      },
      "execution_count": null,
      "outputs": [
        {
          "output_type": "stream",
          "name": "stdout",
          "text": [
            "----------------------- Given name - ROMEO:-------------------------------------- \n",
            "ROMEO:n my tresh presence speak, sir, are it not:\n",
            "Give me your wife, may stand not with the dask:\n",
            "no, no more to my bolon.\n",
            "Being o'er I should push on this possess'd.\n",
            "\n",
            "BUCKINGHAM:\n",
            "We can tell you, Cletto hand aptly heart: I will go along;\n",
            "And now remembering holy freth, and more it me.\n",
            "\n",
            "GLOUCESTER:\n",
            "Brues greated for an asy chamber, being a time\n",
            "To what we fancily inflied.\n",
            "\n",
            "Shepard:\n",
            "Sir, I think he losed this feast. Come, let's awake\n",
            "There was a barbering to more strength and strange;\n",
            "And see whose words reeliness.\n",
            "\n",
            "FLORIZEL:\n",
            "Here, Montague,\n",
            "If thy usurping battle was the faces:\n",
            "For every court-hage of a hell, sir, wrong'st, my\n",
            "Lord; and my life and mine, and fruy.\n",
            "\n",
            "TRANIO:\n",
            "Sweet plant, good night! give this noble whete\n",
            "Gream oppression from our brothers turnant.\n",
            "\n",
            "CATESBY:\n",
            "If it be not, then, Clifford!\n",
            "\n",
            "CAPULET:\n",
            "Although your honour had lust in my mistress'?\n",
            "\n",
            "CATESBY:\n",
            "My lord.\n",
            "\n",
            "DUKE VINCENTIO:\n",
            "What's your will? what would you leave oft both\n",
            "The right of thickest time of distatch\n",
            "As was A milf \n",
            "\n",
            "________________________________________________________________________________\n",
            "----------------------- Given name - JULIET:-------------------------------------- \n",
            "JULIET:\n",
            "\n",
            "KING HENRY VI:\n",
            "I am above the mother are;\n",
            "Our givings, all doubleftly a vice.\n",
            "\n",
            "LADY CAPULET:\n",
            "Ay, sir; a vica bare over-fooler again to levieh,\n",
            "I do repent; I thought my spirit what\n",
            "I kill' the rosom of this shameless strange.\n",
            "Marry, then, to prison.\n",
            "\n",
            "ISABELLA:\n",
            "I'll well it; but at death is most of worthy\n",
            "Misaking!\n",
            "I heard thee see false friends: but they\n",
            "Whereon they stay at weak, is virtuous to be a\n",
            "pity; he is won recover; that's not\n",
            "Of suspection. This is has been,\n",
            "My wife accused intelligence, he\n",
            "would make bold promiseows must better herself and merry\n",
            "Than it hath done so still. And, for they living dog,\n",
            "no need upon your trooks,\n",
            "She comes, some bit enighty duty.\n",
            "\n",
            "DUKE VINCENTIO:\n",
            "You have not been exiled by this judgment,\n",
            "And rein'd at once. The beholding of a king\n",
            "But what I speak but thine, and best\n",
            "To soon she faith as she may for more. Thou'rt a thousand\n",
            "Takes himself: no honest will die; bit embrace his\n",
            "life: am I thought it could possess'd;\n",
            "And in King Henry, bend the time \n",
            "\n",
            "________________________________________________________________________________\n",
            "----------------------- Given name - HAMLET:-------------------------------------- \n",
            "HAMLET:\n",
            "As Tity, and you that deep is.\n",
            "\n",
            "POLIXENES:\n",
            "Neighbour, weally; 'tis to be.\n",
            "\n",
            "GLOUCESTER:\n",
            "Let us not. Nay, you go to horse:\n",
            "But I did better play the good will follow us\n",
            "and my good cousin, durly the red abroan-footh,\n",
            "do to our house; never give me,\n",
            "Monstrous to thin Ireland, provost; for thy love,\n",
            "Sufficies at swain from supplices of loss\n",
            "And give you tyranny; and, in gold,--here give me sure\n",
            "I shall be put of lack a fungimusal vow\n",
            "Defitited thine own terror whine you high a twelve,\n",
            "whose codying yourself, nor any other Clarence,\n",
            "That would I know him now, and, as I said,\n",
            "On me, though you to Padua.\n",
            "If you sleepy dance? what's he that slave thy world?\n",
            "\n",
            "GLOUCESTER:\n",
            "Each dark seats, with one soul's loss,\n",
            "And meet me than they are our spirit.\n",
            "\n",
            "PRINCE EDWARD:\n",
            "I tell you, we'll tell these accuses.\n",
            "If we are almost inexience in't,\n",
            "This friend and do the postern betids our death.\n",
            "But, sirrah, now do I like the air.\n",
            "\n",
            "JULIET:\n",
            "What is's this? Shall I straight it, to our love\n",
            "Till tears the earth  \n",
            "\n",
            "________________________________________________________________________________\n",
            "----------------------- Given name - MACBETH:-------------------------------------- \n",
            "MACBETH:\n",
            "Norfeit, sir; you were so desprain'd, I would, the\n",
            "Great small allares where I fear me, noble friar.\n",
            "O, may mither you sought to touch love was,\n",
            "To hear your deed upon this divine profess.\n",
            "I have some one's equal king, and not to see\n",
            "What doom of sight for sheers at first,\n",
            "Till then emblask something that are thou wert stopp'd\n",
            "And sleep in purse with the harvest, but that I should not\n",
            "been bury howere he should beduced\n",
            "From Romans. They not told me to-morrow,\n",
            "Or how I love the Duke of Lice,\n",
            "To prave your brothers subjects, sweet bass!\n",
            "This other daughter to his oath enough,\n",
            "I'll twain the air of her whereof; they. Five times\n",
            "That speak must be previxed cold, and mine\n",
            "Confound my business to a penayors?\n",
            "\n",
            "CORIOLANUS:\n",
            "Couls, of untoward!\n",
            "Ere he married my body rusting liege!\n",
            "\n",
            "KING EDWARD IV:\n",
            "Ay, all of us on oath ere we sleep and speak,\n",
            "Let me be shallow; it is not this.\n",
            "O, he will some man else to him.\n",
            "\n",
            "EXETER:\n",
            "Happy then returns upon her, how green\n",
            "Naple, knowe with true friend, to-mor \n",
            "\n",
            "________________________________________________________________________________\n",
            "----------------------- Given name - OTHELLO:-------------------------------------- \n",
            "OTHELLO:\n",
            "You say he must curse the court?\n",
            "\n",
            "BAPTISTA:\n",
            "Good morrow! O, this is more, his tricks! would they made fault\n",
            "As mice by excellence; for they are go'er.\n",
            "\n",
            "Servant:\n",
            "Plainly, God's name, that I mean not good.\n",
            "\n",
            "TRANIO:\n",
            "Perhaps, sir, a witness to 't.\n",
            "\n",
            "POLIXENES:\n",
            "My lords, we hunt.\n",
            "\n",
            "BUCKINGHAM:\n",
            "Northumberland, he will come about what liege.\n",
            "\n",
            "First Watchman:\n",
            "Return, from Rome: this kind more ineries\n",
            "To use the hateful concradest butt,\n",
            "His majesty to take away to Warwick;\n",
            "Look, if one poor in blood of wreck,\n",
            "But right, o'erwomen means, and your fair looks\n",
            "With shame and nothing but desire it.\n",
            "\n",
            "QUEEN ELIZABETH:\n",
            "My gracious lord, I busy sped him talk;\n",
            "And Richard, like a wino order,\n",
            "If proud his head by nature from the age,\n",
            "Made up the grave. You must to Bohemia.\n",
            "\n",
            "Third Gentleman:\n",
            "To my knowledge where his father laid.\n",
            "O mercy would, by thy alteration, in\n",
            "Your suitors, and I know now what I take the people!\n",
            "\n",
            "TEBBOLI:\n",
            "He's here!\n",
            "\n",
            "Second Servant:\n",
            "We shall be spoke to thee and cry 'He traitor,\n",
            "Muldi \n",
            "\n",
            "________________________________________________________________________________\n"
          ]
        }
      ]
    },
    {
      "cell_type": "markdown",
      "source": [
        "## 30 Epochs"
      ],
      "metadata": {
        "id": "2X0RVOUh13SY"
      }
    },
    {
      "cell_type": "markdown",
      "metadata": {
        "id": "ULurRRTg13SZ"
      },
      "source": [
        "### Train the model\n",
        "\n",
        "\n"
      ]
    },
    {
      "cell_type": "code",
      "execution_count": null,
      "metadata": {
        "id": "hbthoM7x13SZ",
        "colab": {
          "base_uri": "https://localhost:8080/"
        },
        "outputId": "20d4d5de-ccf7-4135-b8a6-d858e3baf144"
      },
      "outputs": [
        {
          "output_type": "stream",
          "name": "stdout",
          "text": [
            "Epoch 1/30\n",
            "172/172 [==============================] - 15s 65ms/step - loss: 0.6869\n",
            "Epoch 2/30\n",
            "172/172 [==============================] - 13s 64ms/step - loss: 0.6201\n",
            "Epoch 3/30\n",
            "172/172 [==============================] - 12s 62ms/step - loss: 0.5808\n",
            "Epoch 4/30\n",
            "172/172 [==============================] - 12s 62ms/step - loss: 0.5470\n",
            "Epoch 5/30\n",
            "172/172 [==============================] - 12s 62ms/step - loss: 0.5190\n",
            "Epoch 6/30\n",
            "172/172 [==============================] - 13s 64ms/step - loss: 0.4976\n",
            "Epoch 7/30\n",
            "172/172 [==============================] - 12s 62ms/step - loss: 0.4779\n",
            "Epoch 8/30\n",
            "172/172 [==============================] - 12s 62ms/step - loss: 0.4630\n",
            "Epoch 9/30\n",
            "172/172 [==============================] - 12s 62ms/step - loss: 0.4489\n",
            "Epoch 10/30\n",
            "172/172 [==============================] - 12s 62ms/step - loss: 0.4377\n",
            "Epoch 11/30\n",
            "172/172 [==============================] - 12s 62ms/step - loss: 0.4312\n",
            "Epoch 12/30\n",
            "172/172 [==============================] - 12s 62ms/step - loss: 0.4261\n",
            "Epoch 13/30\n",
            "172/172 [==============================] - 13s 63ms/step - loss: 0.4205\n",
            "Epoch 14/30\n",
            "172/172 [==============================] - 13s 65ms/step - loss: 0.4174\n",
            "Epoch 15/30\n",
            "172/172 [==============================] - 12s 62ms/step - loss: 0.4125\n",
            "Epoch 16/30\n",
            "172/172 [==============================] - 13s 62ms/step - loss: 0.4081\n",
            "Epoch 17/30\n",
            "172/172 [==============================] - 13s 62ms/step - loss: 0.4001\n",
            "Epoch 18/30\n",
            "172/172 [==============================] - 13s 64ms/step - loss: 0.4003\n",
            "Epoch 19/30\n",
            "172/172 [==============================] - 12s 62ms/step - loss: 0.4018\n",
            "Epoch 20/30\n",
            "172/172 [==============================] - 12s 62ms/step - loss: 0.3974\n",
            "Epoch 21/30\n",
            "172/172 [==============================] - 12s 62ms/step - loss: 0.3999\n",
            "Epoch 22/30\n",
            "172/172 [==============================] - 12s 61ms/step - loss: 0.3996\n",
            "Epoch 23/30\n",
            "172/172 [==============================] - 12s 62ms/step - loss: 0.3968\n",
            "Epoch 24/30\n",
            "172/172 [==============================] - 12s 63ms/step - loss: 0.3954\n",
            "Epoch 25/30\n",
            "172/172 [==============================] - 12s 62ms/step - loss: 0.3956\n",
            "Epoch 26/30\n",
            "172/172 [==============================] - 12s 61ms/step - loss: 0.3933\n",
            "Epoch 27/30\n",
            "172/172 [==============================] - 12s 62ms/step - loss: 0.3912\n",
            "Epoch 28/30\n",
            "172/172 [==============================] - 12s 61ms/step - loss: 0.3920\n",
            "Epoch 29/30\n",
            "172/172 [==============================] - 12s 61ms/step - loss: 0.3878\n",
            "Epoch 30/30\n",
            "172/172 [==============================] - 12s 62ms/step - loss: 0.3926\n"
          ]
        }
      ],
      "source": [
        "model.compile(optimizer='adam',\n",
        "              loss=tf.losses.SparseCategoricalCrossentropy(from_logits=True))\n",
        "\n",
        "# Directory where the checkpoints will be saved\n",
        "checkpoint_dir = './training_checkpoints'\n",
        "# Name of the checkpoint files\n",
        "checkpoint_prefix = os.path.join(checkpoint_dir, \"ckpt_{epoch}\")\n",
        "\n",
        "\n",
        "checkpoint_callback = tf.keras.callbacks.ModelCheckpoint(\n",
        "    filepath=checkpoint_prefix,\n",
        "    save_weights_only=True)\n",
        "\n",
        "history = model.fit(dataset,\n",
        "                    epochs=30,\n",
        "                    callbacks=[checkpoint_callback])"
      ]
    },
    {
      "cell_type": "code",
      "source": [
        "# Plotting the learning curve\n",
        "import matplotlib.pyplot as plt\n",
        "\n",
        "plt.figure(figsize=(9, 6))\n",
        "plt.plot(history.history['loss'], label=' Loss')\n",
        "plt.title('Learning curve')\n",
        "plt.xlabel('Epoch')\n",
        "plt.ylabel('Loss')\n",
        "plt.legend()\n"
      ],
      "metadata": {
        "id": "7PL8YHzW13SZ",
        "colab": {
          "base_uri": "https://localhost:8080/"
        },
        "outputId": "040a6532-5281-4991-f99a-afa6d871436a"
      },
      "execution_count": null,
      "outputs": [
        {
          "output_type": "execute_result",
          "data": {
            "text/plain": [
              "<matplotlib.legend.Legend at 0x7aa2e7b1bc10>"
            ]
          },
          "metadata": {},
          "execution_count": 17
        },
        {
          "output_type": "display_data",
          "data": {
            "text/plain": [
              "<Figure size 900x600 with 1 Axes>"
            ],
            "image/png": "[encoded data removed]"
          },
          "metadata": {}
        }
      ]
    },
    {
      "cell_type": "markdown",
      "metadata": {
        "id": "rQTOoHMq13SZ"
      },
      "source": [
        "### Generate text"
      ]
    },
    {
      "cell_type": "code",
      "execution_count": null,
      "metadata": {
        "id": "DmVyVEm913SZ"
      },
      "outputs": [],
      "source": [
        "class OneStep(tf.keras.Model):\n",
        "  def __init__(self, model, chars_from_ids, ids_from_chars, temperature=1.0):\n",
        "    super().__init__()\n",
        "    self.temperature = temperature\n",
        "    self.model = model\n",
        "    self.chars_from_ids = chars_from_ids\n",
        "    self.ids_from_chars = ids_from_chars\n",
        "\n",
        "    # Create a mask to prevent \"[UNK]\" from being generated.\n",
        "    skip_ids = self.ids_from_chars(['[UNK]'])[:, None]\n",
        "    sparse_mask = tf.SparseTensor(\n",
        "        # Put a -inf at each bad index.\n",
        "        values=[-float('inf')]*len(skip_ids),\n",
        "        indices=skip_ids,\n",
        "        # Match the shape to the vocabulary\n",
        "        dense_shape=[len(ids_from_chars.get_vocabulary())])\n",
        "    self.prediction_mask = tf.sparse.to_dense(sparse_mask)\n",
        "\n",
        "  @tf.function\n",
        "  def generate_one_step(self, inputs, states=None):\n",
        "    # Convert strings to token IDs.\n",
        "    input_chars = tf.strings.unicode_split(inputs, 'UTF-8')\n",
        "\n",
        "    input_ids = self.ids_from_chars(input_chars).to_tensor()\n",
        "    # Run the model.\n",
        "    # predicted_logits.shape is [batch, char, next_char_logits]\n",
        "    predicted_logits, states = self.model(inputs=input_ids, states=states,\n",
        "                                          return_state=True)\n",
        "    # Only use the last prediction.\n",
        "    predicted_logits = predicted_logits[:, -1, :]\n",
        "    predicted_logits = predicted_logits/self.temperature\n",
        "    # Apply the prediction mask: prevent \"[UNK]\" from being generated.\n",
        "    predicted_logits = predicted_logits + self.prediction_mask\n",
        "\n",
        "    # Sample the output logits to generate token IDs.\n",
        "    predicted_ids = tf.random.categorical(predicted_logits, num_samples=1)\n",
        "    predicted_ids = tf.squeeze(predicted_ids, axis=-1)\n",
        "\n",
        "    # Convert from token ids to characters\n",
        "    predicted_chars = self.chars_from_ids(predicted_ids)\n",
        "\n",
        "    # Return the characters and model state.\n",
        "    return predicted_chars, states\n",
        "\n",
        "one_step_model = OneStep(model, chars_from_ids, ids_from_chars)"
      ]
    },
    {
      "cell_type": "code",
      "execution_count": null,
      "metadata": {
        "id": "aUHBzmRX13Sa"
      },
      "outputs": [],
      "source": [
        "start = time.time()\n",
        "states = None\n",
        "\n",
        "outlist = ['ROMEO:', 'JULIET:','HAMLET:','MACBETH:', 'OTHELLO:']\n",
        "\n",
        "next_char = tf.constant(outlist)\n",
        "result = [next_char]\n",
        "\n",
        "for n in range(1000):\n",
        "  next_char, states = one_step_model.generate_one_step(next_char, states=states)\n",
        "  result.append(next_char)\n",
        "\n",
        "result = tf.strings.join(result)\n",
        "end = time.time()"
      ]
    },
    {
      "cell_type": "code",
      "source": [
        "for i,text in enumerate(result):\n",
        "  print(f'----------------------- Given name - {outlist[i]}-------------------------------------- ')\n",
        "  print(text.numpy().decode('utf-8'), '\\n\\n' + '_'*80)\n",
        "\n",
        "#print('\\nRun time:', end - start)"
      ],
      "metadata": {
        "id": "B_Ef6mky13Sa",
        "colab": {
          "base_uri": "https://localhost:8080/"
        },
        "outputId": "e00175bc-95f1-4ec8-f7e3-f7f92a2a0de2"
      },
      "execution_count": null,
      "outputs": [
        {
          "output_type": "stream",
          "name": "stdout",
          "text": [
            "----------------------- Given name - ROMEO:-------------------------------------- \n",
            "ROMEO:\n",
            "Than let me boys with door.\n",
            "\n",
            "PROSPERO:\n",
            "God save you, greater:\n",
            "I am light for the Duke of Lancaster is deadly been\n",
            "When sweet black despair nothing.\n",
            "\n",
            "ANTIGONUS:\n",
            "Look your father's be,\n",
            "If he seek you that from such a handy thoughts:\n",
            "What thou art poor full of willess before the king.\n",
            "\n",
            "BUSTY:\n",
            "Ah, whither shall interpetation that we frew,\n",
            "And told his very hour, if you were so.\n",
            "\n",
            "YORK:\n",
            "I were not but to say the tribunes: sure, it beggar,\n",
            "To men our soldier from the fearful times!'\n",
            "Smiles at the feast. Luction figures days,\n",
            "This day those honours have renatch'd themselves?\n",
            "We will at leaves and rid her gown, but subjects'd\n",
            "A vesselves, you and call mine arms.\n",
            "\n",
            "CAMILLO:\n",
            "Nay.\n",
            "\n",
            "CLARENCE:\n",
            "I know standly, sir.\n",
            "\n",
            "AUTOLYCUS:\n",
            "Verily.\n",
            "\n",
            "AUTOLYCUS:\n",
            "Here's the mistoney's of a king;\n",
            "And when this are undo the bloody body\n",
            "And Juliet bleeding in the sea?\n",
            "\n",
            "KATHARINA:\n",
            "Well have I love you,--\n",
            "\n",
            "CORIOLANUS:\n",
            "I know his heart consware.\n",
            "\n",
            "KING RICHARD II:\n",
            "That loves them told, how all the steelest girl.\n",
            "This busine \n",
            "\n",
            "________________________________________________________________________________\n",
            "----------------------- Given name - JULIET:-------------------------------------- \n",
            "JULIET:\n",
            "And is always butchers to use her fouless\n",
            "Busined the shapperates to din Anjuil'd than\n",
            "His gift again to my body,\n",
            "Stay with me. Here, Kate.\n",
            "\n",
            "LUCENTIO:\n",
            "You are parcius, not concluded ye from himself,\n",
            "And sit thee better than I perfectize his kin.\n",
            "\n",
            "DUKE OF AUMERLE:\n",
            "Erroneous come; for the return be I sawe;\n",
            "And, by thy full of help, my lord,\n",
            "Time last gentlemen, or twenty and his brother and be spectations,\n",
            "Which by my troth, you have in evil dine,\n",
            "The throw up threas; the accursed employs;\n",
            "Hild profane's behalf?\n",
            "\n",
            "HENRY BOLINGBROKE:\n",
            "Is my daughter, boy: and we your sentleness\n",
            "But likes of Tybalt. What is the suit?\n",
            "\n",
            "ISABELLA:\n",
            "Unto Rome, spradgess, multitude:\n",
            "No, no, go so:\n",
            "Partly good ot is, and by remedy imprisonment?\n",
            "\n",
            "WARWICK:\n",
            "Tell me this is the matter.\n",
            "\n",
            "DUKE VINCENTIO:\n",
            "O, no; a jot of words, what with bage Richard,\n",
            "I know not what; but this my dear souls' royal ran,\n",
            "If you shall bear me to their currents,\n",
            "Lest that our season bodis man grow to our coals,\n",
            "And so obsequious will you mak \n",
            "\n",
            "________________________________________________________________________________\n",
            "----------------------- Given name - HAMLET:-------------------------------------- \n",
            "HAMLET: Gentleman:\n",
            "My gracious foe's defrees a cave?\n",
            "\n",
            "Second Murderer:\n",
            "I say 'he know the cause! Thou sleep'st to me.'\n",
            "\n",
            "POLIXENES:\n",
            "We would, which wonder he to't?\n",
            "\n",
            "Page:\n",
            "My lord,\n",
            "I have here--God are they can be.\n",
            "\n",
            "First Murderer:\n",
            "Subjects it thus might in earth rotables;\n",
            "Thou wast their ear dryomes.\n",
            "\n",
            "First Senator:\n",
            "My gracious fortune's foe, my gracious lady!\n",
            "\n",
            "POMIXENES:\n",
            "O, full of dates; advarces!\n",
            "\n",
            "TRANIO:\n",
            "No, my good lord: you go you to him?\n",
            "\n",
            "TRANIO:\n",
            "Gremio, thou dost suspect a few arrige unto the king:\n",
            "And who shall break his grave's wholesome fridn?\n",
            "To the shade guard, my king on't: thou, my sly,\n",
            "Slain terrible in God's man, and death,\n",
            "'Shall I do so. I think it fly.\n",
            "\n",
            "RICHARD:\n",
            "Ay, brother, if thy charge.\n",
            "\n",
            "BAPTISTA:\n",
            "Hie to your people.\n",
            "\n",
            "SICINIUS:\n",
            "Have you not add abuse.\n",
            "\n",
            "ELBOW:\n",
            "Nay, then I judge a prince of night,\n",
            "Let 'by rich joy can salute the crywaking.\n",
            "I never lies in's face to me\n",
            "Thou art a friend of mine.\n",
            "\n",
            "LUCIO:\n",
            "He deeds, not litten thing: or wilt thou live,\n",
            "That nothing that be spo \n",
            "\n",
            "________________________________________________________________________________\n",
            "----------------------- Given name - MACBETH:-------------------------------------- \n",
            "MACBETH:\n",
            "But, knack what I abhorred will we foret\n",
            "To give me to suffer in the present buil.\n",
            "A prince spoke to this princely shadows:\n",
            "Follow make the east and heir more.\n",
            "They shall obedience for a father's gentle-song's,\n",
            "Although I have not spoke a feather fonder mean, but it is\n",
            "crownding.\n",
            "\n",
            "LEONTES:\n",
            "Stay, you're as presure;\n",
            "Obseth gentleman shall be deposed;\n",
            "She's something on their parkly reproaches! But what you\n",
            "die? my fault is gone, sir, and be gone.\n",
            "Ah, sirrah, leave untiewell, Camillo, for then\n",
            "they charge to serve, love, for thee by the\n",
            "vein. I'll not there am come to see thee--\n",
            "\n",
            "Third Citizen:\n",
            "We have power you are open, she shall be made of;\n",
            "For all the swelling uncle Rivers and I bore\n",
            "That set them towere our substitute, and\n",
            "frown's it then one that straight shall discharged.\n",
            "May cut, my lord grow likeness may change thee,\n",
            "Where shall become the trumpets, to thy steads,\n",
            "To meltimel, that stretch is my dukedom?\n",
            "\n",
            "DUKE OF AUMERLE:\n",
            "Where let me testimony?\n",
            "\n",
            "HASTINGS:\n",
            "I turn myself a true a \n",
            "\n",
            "________________________________________________________________________________\n",
            "----------------------- Given name - OTHELLO:-------------------------------------- \n",
            "OTHELLO:\n",
            "Good be thy fault: Plantagenet she prouds,\n",
            "To win ere I could make the sure of it.\n",
            "\n",
            "ANGELO:\n",
            "Where is thy conscience but in England are gone.\n",
            "\n",
            "DUCHESS OF YORK:\n",
            "O pray you, cousin, I have done in Rome:\n",
            "And I this deed will I bear a brave unto.\n",
            "Respecting him, of three decky, that thou hear'st here!\n",
            "\n",
            "ROMEO:\n",
            "Let's be gone enough.\n",
            "\n",
            "CAMILLO:\n",
            "No, good sweet Kate:\n",
            "I think she, but that shall not live.\n",
            "\n",
            "PERDITA:\n",
            "I know it, I:\n",
            "No, no, sit down; then let us need to muster;\n",
            "I will be satisfied with distraining our sweet supper.\n",
            "\n",
            "EXETER:\n",
            "Ah, where's my waters? and you we profess\n",
            "The princes not likewise of it: who are almost Richard's virtues:\n",
            "The truth should say it is below thy sovereign.\n",
            "\n",
            "KING RICHARD II:\n",
            "Those gracious joints behind them, for it doth gates;\n",
            "So long as shall you gall mose things, speak against\n",
            "your grace; here is no good soul visite\n",
            "The king is not infected with your limishes;\n",
            "And so my lovely queen's able to endure\n",
            "My wondering treason danly rages\n",
            "Have eath and shrewds and pra \n",
            "\n",
            "________________________________________________________________________________\n"
          ]
        }
      ]
    },
    {
      "cell_type": "markdown",
      "source": [
        "# Two RNN layer"
      ],
      "metadata": {
        "id": "bPe-5NXn2KCK"
      }
    },
    {
      "cell_type": "code",
      "execution_count": null,
      "metadata": {
        "id": "_35t5-Ya2KCR"
      },
      "outputs": [],
      "source": [
        "class MyModel(tf.keras.Model):\n",
        "    def __init__(self, vocab_size, embedding_dim, rnn_units):\n",
        "        super(MyModel, self).__init__()\n",
        "        self.embedding = tf.keras.layers.Embedding(vocab_size, embedding_dim)\n",
        "        self.gru1 = tf.keras.layers.GRU(rnn_units,\n",
        "                                        return_sequences=True,\n",
        "                                        return_state=True,\n",
        "                                        stateful=False)  # Ensure it's not stateful by default\n",
        "        self.gru2 = tf.keras.layers.GRU(rnn_units,\n",
        "                                        return_sequences=True,\n",
        "                                        return_state=True,\n",
        "                                        stateful=False)  # Ensure it's not stateful by default\n",
        "        self.dense = tf.keras.layers.Dense(vocab_size)\n",
        "\n",
        "    def call(self, inputs, states1=None, states2=None, return_state=False, training=False):\n",
        "        x = inputs\n",
        "        x = self.embedding(x, training=training)\n",
        "\n",
        "        if states1 is None:\n",
        "            states1 = self.gru1.get_initial_state(x)\n",
        "\n",
        "        x, states1 = self.gru1(x, initial_state=states1, training=training)\n",
        "\n",
        "        if states2 is None:\n",
        "            states2 = self.gru2.get_initial_state(x)\n",
        "\n",
        "        x, states2 = self.gru2(x, initial_state=states2, training=training)\n",
        "        x = self.dense(x, training=training)\n",
        "\n",
        "        if return_state:\n",
        "            return x, states1, states2\n",
        "        else:\n",
        "            return x"
      ]
    },
    {
      "cell_type": "code",
      "execution_count": null,
      "metadata": {
        "id": "QcMOSlj62KCR"
      },
      "outputs": [],
      "source": [
        "# Length of the vocabulary in StringLookup Layer\n",
        "vocab_size = len(ids_from_chars.get_vocabulary())\n",
        "\n",
        "# The embedding dimension\n",
        "embedding_dim = 256\n",
        "\n",
        "# Number of RNN units\n",
        "rnn_units = 1024\n",
        "\n",
        "model = MyModel(\n",
        "    vocab_size=vocab_size,\n",
        "    embedding_dim=embedding_dim,\n",
        "    rnn_units=rnn_units)"
      ]
    },
    {
      "cell_type": "markdown",
      "source": [
        "## 20 Epochs"
      ],
      "metadata": {
        "id": "JaUMxrwL2KCR"
      }
    },
    {
      "cell_type": "markdown",
      "metadata": {
        "id": "h55Awva42KCR"
      },
      "source": [
        "### Train the model\n",
        "\n",
        "\n"
      ]
    },
    {
      "cell_type": "code",
      "execution_count": null,
      "metadata": {
        "colab": {
          "base_uri": "https://localhost:8080/"
        },
        "outputId": "145e5055-7f0c-4ac2-c969-44a35d374ab1",
        "id": "Cc3wx4HS2KCR"
      },
      "outputs": [
        {
          "output_type": "stream",
          "name": "stdout",
          "text": [
            "Epoch 1/20\n",
            "172/172 [==============================] - 31s 127ms/step - loss: 2.6611\n",
            "Epoch 2/20\n",
            "172/172 [==============================] - 24s 128ms/step - loss: 1.8318\n",
            "Epoch 3/20\n",
            "172/172 [==============================] - 25s 136ms/step - loss: 1.5589\n",
            "Epoch 4/20\n",
            "172/172 [==============================] - 26s 141ms/step - loss: 1.4342\n",
            "Epoch 5/20\n",
            "172/172 [==============================] - 26s 143ms/step - loss: 1.3577\n",
            "Epoch 6/20\n",
            "172/172 [==============================] - 27s 144ms/step - loss: 1.3018\n",
            "Epoch 7/20\n",
            "172/172 [==============================] - 27s 143ms/step - loss: 1.2541\n",
            "Epoch 8/20\n",
            "172/172 [==============================] - 26s 143ms/step - loss: 1.2092\n",
            "Epoch 9/20\n",
            "172/172 [==============================] - 26s 143ms/step - loss: 1.1655\n",
            "Epoch 10/20\n",
            "172/172 [==============================] - 27s 146ms/step - loss: 1.1186\n",
            "Epoch 11/20\n",
            "172/172 [==============================] - 28s 149ms/step - loss: 1.0670\n",
            "Epoch 12/20\n",
            "172/172 [==============================] - 26s 142ms/step - loss: 1.0092\n",
            "Epoch 13/20\n",
            "172/172 [==============================] - 28s 150ms/step - loss: 0.9452\n",
            "Epoch 14/20\n",
            "172/172 [==============================] - 27s 143ms/step - loss: 0.8740\n",
            "Epoch 15/20\n",
            "172/172 [==============================] - 26s 143ms/step - loss: 0.7967\n",
            "Epoch 16/20\n",
            "172/172 [==============================] - 26s 143ms/step - loss: 0.7155\n",
            "Epoch 17/20\n",
            "172/172 [==============================] - 26s 143ms/step - loss: 0.6352\n",
            "Epoch 18/20\n",
            "172/172 [==============================] - 27s 145ms/step - loss: 0.5546\n",
            "Epoch 19/20\n",
            "172/172 [==============================] - 27s 150ms/step - loss: 0.4814\n",
            "Epoch 20/20\n",
            "172/172 [==============================] - 26s 143ms/step - loss: 0.4165\n"
          ]
        }
      ],
      "source": [
        "model.compile(optimizer='adam',\n",
        "              loss=tf.losses.SparseCategoricalCrossentropy(from_logits=True))\n",
        "\n",
        "# Directory where the checkpoints will be saved\n",
        "checkpoint_dir = './training_checkpoints'\n",
        "# Name of the checkpoint files\n",
        "checkpoint_prefix = os.path.join(checkpoint_dir, \"ckpt_{epoch}\")\n",
        "\n",
        "\n",
        "checkpoint_callback = tf.keras.callbacks.ModelCheckpoint(\n",
        "    filepath=checkpoint_prefix,\n",
        "    save_weights_only=True)\n",
        "\n",
        "history = model.fit(dataset,\n",
        "                    epochs=20,\n",
        "                    callbacks=[checkpoint_callback])"
      ]
    },
    {
      "cell_type": "code",
      "source": [
        "# Plotting the learning curve\n",
        "import matplotlib.pyplot as plt\n",
        "\n",
        "plt.figure(figsize=(9, 6))\n",
        "plt.plot(history.history['loss'], label=' Loss')\n",
        "plt.title('Learning curve')\n",
        "plt.xlabel('Epoch')\n",
        "plt.ylabel('Loss')\n",
        "plt.legend()\n"
      ],
      "metadata": {
        "colab": {
          "base_uri": "https://localhost:8080/",
          "height": 581
        },
        "outputId": "7824508f-3b5b-4d9a-f3f8-970ef89e5a0d",
        "id": "p7jVLXYq2KCS"
      },
      "execution_count": null,
      "outputs": [
        {
          "output_type": "execute_result",
          "data": {
            "text/plain": [
              "<matplotlib.legend.Legend at 0x7e2e281f7bb0>"
            ]
          },
          "metadata": {},
          "execution_count": 12
        },
        {
          "output_type": "display_data",
          "data": {
            "text/plain": [
              "<Figure size 900x600 with 1 Axes>"
            ],
            "image/png": "[encoded data removed]"
          },
          "metadata": {}
        }
      ]
    },
    {
      "cell_type": "markdown",
      "metadata": {
        "id": "hzbuGeUH2KCS"
      },
      "source": [
        "### Generate text"
      ]
    },
    {
      "cell_type": "code",
      "execution_count": null,
      "metadata": {
        "id": "4x0dVTWv2KCS"
      },
      "outputs": [],
      "source": [
        "class OneStep(tf.keras.Model):\n",
        "    def __init__(self, model, chars_from_ids, ids_from_chars, temperature=1.0):\n",
        "        super().__init__()\n",
        "        self.temperature = temperature\n",
        "        self.model = model\n",
        "        self.chars_from_ids = chars_from_ids\n",
        "        self.ids_from_chars = ids_from_chars\n",
        "\n",
        "        # Create a mask to prevent \"[UNK]\" from being generated.\n",
        "        skip_ids = self.ids_from_chars(['[UNK]'])[:, None]\n",
        "        sparse_mask = tf.SparseTensor(\n",
        "            # Put a -inf at each bad index.\n",
        "            values=[-float('inf')]*len(skip_ids),\n",
        "            indices=skip_ids,\n",
        "            # Match the shape to the vocabulary\n",
        "            dense_shape=[len(ids_from_chars.get_vocabulary())])\n",
        "        self.prediction_mask = tf.sparse.to_dense(sparse_mask)\n",
        "\n",
        "    @tf.function\n",
        "    def generate_one_step(self, inputs, states=[None, None]):\n",
        "\n",
        "        input_chars = tf.strings.unicode_split(inputs, 'UTF-8')\n",
        "        input_ids = self.ids_from_chars(input_chars).to_tensor()\n",
        "        predicted_logits, state1, state2 = self.model(inputs=input_ids, states1=states[0], states2=states[1], return_state=True)\n",
        "        new_states = [state1, state2]\n",
        "\n",
        "        predicted_logits = predicted_logits[:, -1, :]\n",
        "        predicted_logits /= self.temperature\n",
        "\n",
        "        predicted_logits += self.prediction_mask\n",
        "\n",
        "\n",
        "        predicted_ids = tf.random.categorical(predicted_logits, num_samples=1)\n",
        "        predicted_ids = tf.squeeze(predicted_ids, axis=-1)\n",
        "\n",
        "\n",
        "        predicted_chars = self.chars_from_ids(predicted_ids)\n",
        "\n",
        "        return predicted_chars, new_states\n",
        "\n",
        "one_step_model = OneStep(model, chars_from_ids, ids_from_chars)"
      ]
    },
    {
      "cell_type": "code",
      "execution_count": null,
      "metadata": {
        "id": "OEp4v5uo2KCS"
      },
      "outputs": [],
      "source": [
        "start = time.time()\n",
        "\n",
        "# Initial states for each RNN layer\n",
        "states = [None, None]\n",
        "\n",
        "outlist = ['ROMEO:', 'JULIET:', 'HAMLET:', 'MACBETH:', 'OTHELLO:']\n",
        "next_char = tf.constant(outlist)\n",
        "\n",
        "result = [next_char]\n",
        "\n",
        "for n in range(1000):\n",
        "    next_char, states = one_step_model.generate_one_step(next_char, states=states)\n",
        "    result.append(next_char)\n",
        "\n",
        "result = tf.strings.join(result)\n",
        "\n",
        "end = time.time()"
      ]
    },
    {
      "cell_type": "code",
      "source": [
        "for i,text in enumerate(result):\n",
        "  print(f'----------------------- Given name - {outlist[i]}-------------------------------------- ')\n",
        "  print(text.numpy().decode('utf-8'), '\\n\\n' + '_'*80)\n",
        "\n",
        "#print('\\nRun time:', end - start)"
      ],
      "metadata": {
        "colab": {
          "base_uri": "https://localhost:8080/"
        },
        "outputId": "549aba0d-f418-4f3d-98e8-c311b7eadb0c",
        "id": "PxhgOwtr2KCS"
      },
      "execution_count": null,
      "outputs": [
        {
          "output_type": "stream",
          "name": "stdout",
          "text": [
            "----------------------- Given name - ROMEO:-------------------------------------- \n",
            "ROMEO:\n",
            "The commonwealth of your bed. You have got speeding\n",
            "Can spread fully.\n",
            "\n",
            "GLOUCESTER:\n",
            "Foul weather, and say that I did mean to both,\n",
            "That stabb'd me in his power i' the Capitol!\n",
            "\n",
            "BRUTUS:\n",
            "We took him well met.\n",
            "\n",
            "SLY:\n",
            "I am the whitest very growing opposed\n",
            "Thbout of rancour of your offices,\n",
            "But fill his own life and all in stranger:\n",
            "I'll draw the firm: God with thy specite\n",
            "By some report I have turn'd your love,\n",
            "But bid it weak and also and drinking gett\n",
            "A themable delights, wipe, I charge thee, flatt,\n",
            "And leaves not this suit of law and in\n",
            "Unto our soft corders' drums and tacklings?\n",
            "\n",
            "DUKE VINCENTIO:\n",
            "You were not firmless after?\n",
            "\n",
            "ANGELO:\n",
            "Yes.\n",
            "\n",
            "advise:\n",
            "An you one, Catesby.\n",
            "\n",
            "SAMPSON:\n",
            "Let have heard from men, and that reflied me,\n",
            "Men give loot prosperirgh in his bowling\n",
            "County Paris hath tempted Rume to have.\n",
            "\n",
            "PROSPERO:\n",
            "Go do not say 'tis show.\n",
            "\n",
            "PROSPERO:\n",
            "Coffer, what shalt thou live?\n",
            "\n",
            "Groom:\n",
            "When who shall we be his foreign pound of stock,\n",
            "Which waste of this night's queen's allied and their a \n",
            "\n",
            "________________________________________________________________________________\n",
            "----------------------- Given name - JULIET:-------------------------------------- \n",
            "JULIET: O lovereign tyrannod?\n",
            "\n",
            "BAPTISTA:\n",
            "A footman canst for mazard. The king shall drink. We have we here between us!\n",
            "\n",
            "GLOUCESTER:\n",
            "The garter, bleeds; and, to live and fearing\n",
            "her: in heaven bear himself their tongues?\n",
            "\n",
            "STANLEY:\n",
            "I would he had not, for it hath sent\n",
            "For their hearts to pity his body pursue,\n",
            "Lamenting Dew sharing breath. Let them have some castle:\n",
            "there was something deliver to horn-bled at\n",
            "the hag--morrow than a nightmap boundly, err'd, ill court\n",
            "And idle trifles. Good carried, remorse, impedime\n",
            "neither dreadful truly, O nature, whisper them therefore?\n",
            "\n",
            "ESCALUS:\n",
            "I am able to adders himself: henceful arm\n",
            "to let him that make a shame were leant with thee:\n",
            "Had he disclain, our army long hath wedding means,\n",
            "Master Dion, like an unprespail'd\n",
            "Your height bridgle steel or joyly by Signior Villain,\n",
            "I hope long hereof, so and sound and fakn,\n",
            "But 'twas guided villain. But what's his majesty to direct the\n",
            "sound, and not thine, or thou wert the world,\n",
            "So and not lawful mercation.\n",
            "I have  \n",
            "\n",
            "________________________________________________________________________________\n",
            "----------------------- Given name - HAMLET:-------------------------------------- \n",
            "HAMLET:\n",
            "Then, good my lord, let's stand in such a pach-doughty piece\n",
            "Of bore three business.'\n",
            "\n",
            "AEdile:\n",
            "What's i' the mayor?\n",
            "\n",
            "MARIANA:\n",
            "No, my lord.\n",
            "\n",
            "MARIANA:\n",
            "Break off! how lies your honour hear me.\n",
            "\n",
            "ANGELO:\n",
            "Nay, good, madam.\n",
            "\n",
            "VALERIA:\n",
            "Come, come, my lord,\n",
            "I am a subject for the wasteful king.\n",
            "\n",
            "NORTHUMBERLAND:\n",
            "Then, God be blasten'd you with it not stand:\n",
            "The generous to destroy what I have strucken dead!\n",
            "And like an honour will scorn my letters, abroad\n",
            "A pewise him to his legs. Therefore, no babe:\n",
            "I had rather be no stocks, and evils,\n",
            "For the benefit of flesh and blood intends.\n",
            "\n",
            "CLARENCE:\n",
            "O, no, he doth never made peace than she--\n",
            "Nurse:\n",
            "We will answer it, Eart an answer to.\n",
            "\n",
            "QUEEN MARGARET:\n",
            "What, dost thou, lords, make away my cousin?\n",
            "\n",
            "YORK:\n",
            "You are werefore, hence!\n",
            "\n",
            "Nurse:\n",
            "Well, in good time: Pluster you hence,\n",
            "Before the statue of our displeasure,\n",
            "You, to speak for nothing bend like his\n",
            "That with a sudden reinforcement shadest\n",
            "Thom strip true sunder blushed by the asker here,\n",
            "Till then be  \n",
            "\n",
            "________________________________________________________________________________\n",
            "----------------------- Given name - MACBETH:-------------------------------------- \n",
            "MACBETH:\n",
            "You have offended not, madam.\n",
            "\n",
            "QUEEN ELIZABETH:\n",
            "An honest tender shapes man, boy! poor boy!\n",
            "Come, like a man and her promised regors\n",
            "That she doth give her sorrow, with all praise thee:\n",
            "And so I yet death make thee run mad. The news?\n",
            "\n",
            "Second Mercutio's\n",
            "breaching: sir, 'tis a villain say and sole like shadom\n",
            "That thou shouldst be: the harm of learning!\n",
            "Would I did never what had been universal east?\n",
            "Or do my true love's partying before! I am arred gentlemen:\n",
            "But say, is all and make his vault to desire.\n",
            "\n",
            "KING RICHARD III:\n",
            "Now, for I must conjure. What's the matter, if you know\n",
            "I have a hundred marriage: like a turt is.\n",
            "\n",
            "NORTHUMBERLAND:\n",
            "What would your grace may drink a foot to say?\n",
            "\n",
            "BIONDELLO:\n",
            "He that doth not the arm of that reign best believe that\n",
            "makes your forwardings; here, and yet, behind, behold\n",
            "Time and left cheek to his presence?\n",
            "\n",
            "FLORIZEL:\n",
            "Madam, I am\n",
            "To you a subject, patience can come to fight:\n",
            "And to the sanctuary pity of my flatterer,\n",
            "I would lame it in her suscon keep yo \n",
            "\n",
            "________________________________________________________________________________\n",
            "----------------------- Given name - OTHELLO:-------------------------------------- \n",
            "OTHELLO:\n",
            "Why, he is keep a little in the friar?\n",
            "Hath not deny it to be right when I had forgot\n",
            "High appering fair daughters; and now begins\n",
            "These petty busness and as boundled to:\n",
            "I am arrived for an it or breed;\n",
            "Thou art their than the alms of this second marriage,\n",
            "That so short with water as 'twere a flack'd am\n",
            "Your faith. Then all the world is come.\n",
            "If any in night, as the devil, am strong:\n",
            "Now, if you waken such a wife to taps.\n",
            "\n",
            "WARWICK:\n",
            "Hence in Worcester, when he wakes, and give me\n",
            "Married Johf and stone of his fond, alone,\n",
            "And like to sleet Rutland, non at our house,\n",
            "The noble lady mourn blows two bloody witchcome\n",
            "Of his great armour to greeting.\n",
            "\n",
            "GLOUCESTER:\n",
            "Your leadness senators shall I since the cords\n",
            "Hath no less honour let me be to nought!\n",
            "Therefore delay not, go here, sir, show me; let's never\n",
            "Be so boundly as a than marry with her;\n",
            "But neither the parter of their children's state,\n",
            "To make a plot against me, revengefore they\n",
            "stand back lecker.\n",
            "\n",
            "Provost:\n",
            "Ere thines out his news, m \n",
            "\n",
            "________________________________________________________________________________\n"
          ]
        }
      ]
    },
    {
      "cell_type": "markdown",
      "source": [
        "## 30 Epochs"
      ],
      "metadata": {
        "id": "lrPjAH0wrvhi"
      }
    },
    {
      "cell_type": "markdown",
      "metadata": {
        "id": "uz6U2aS7rvhi"
      },
      "source": [
        "### Train the model\n",
        "\n",
        "\n"
      ]
    },
    {
      "cell_type": "code",
      "execution_count": null,
      "metadata": {
        "colab": {
          "base_uri": "https://localhost:8080/"
        },
        "outputId": "1773157d-46e9-45fb-f4a6-1e7e78d940c6",
        "id": "F3je6V-urvhi"
      },
      "outputs": [
        {
          "output_type": "stream",
          "name": "stdout",
          "text": [
            "Epoch 1/30\n",
            "172/172 [==============================] - 27s 132ms/step - loss: 0.3540\n",
            "Epoch 2/30\n",
            "172/172 [==============================] - 26s 139ms/step - loss: 0.2784\n",
            "Epoch 3/30\n",
            "172/172 [==============================] - 26s 143ms/step - loss: 0.2488\n",
            "Epoch 4/30\n",
            "172/172 [==============================] - 27s 145ms/step - loss: 0.2325\n",
            "Epoch 5/30\n",
            "172/172 [==============================] - 27s 146ms/step - loss: 0.2294\n",
            "Epoch 6/30\n",
            "172/172 [==============================] - 27s 145ms/step - loss: 0.2328\n",
            "Epoch 7/30\n",
            "172/172 [==============================] - 26s 144ms/step - loss: 0.2321\n",
            "Epoch 8/30\n",
            "172/172 [==============================] - 26s 144ms/step - loss: 0.2295\n",
            "Epoch 9/30\n",
            "172/172 [==============================] - 27s 145ms/step - loss: 0.2197\n",
            "Epoch 10/30\n",
            "172/172 [==============================] - 27s 145ms/step - loss: 0.2116\n",
            "Epoch 11/30\n",
            "172/172 [==============================] - 26s 144ms/step - loss: 0.2066\n",
            "Epoch 12/30\n",
            "172/172 [==============================] - 26s 144ms/step - loss: 0.2019\n",
            "Epoch 13/30\n",
            "172/172 [==============================] - 26s 144ms/step - loss: 0.2020\n",
            "Epoch 14/30\n",
            "172/172 [==============================] - 27s 147ms/step - loss: 0.2073\n",
            "Epoch 15/30\n",
            "172/172 [==============================] - 27s 150ms/step - loss: 0.2117\n",
            "Epoch 16/30\n",
            "172/172 [==============================] - 26s 144ms/step - loss: 0.2204\n",
            "Epoch 17/30\n",
            "172/172 [==============================] - 27s 145ms/step - loss: 0.2238\n",
            "Epoch 18/30\n",
            "172/172 [==============================] - 27s 148ms/step - loss: 0.2206\n",
            "Epoch 19/30\n",
            "172/172 [==============================] - 27s 146ms/step - loss: 0.2119\n",
            "Epoch 20/30\n",
            "172/172 [==============================] - 26s 144ms/step - loss: 0.2010\n",
            "Epoch 21/30\n",
            "172/172 [==============================] - 27s 145ms/step - loss: 0.1909\n",
            "Epoch 22/30\n",
            "172/172 [==============================] - 27s 150ms/step - loss: 0.1838\n",
            "Epoch 23/30\n",
            "172/172 [==============================] - 27s 143ms/step - loss: 0.1815\n",
            "Epoch 24/30\n",
            "172/172 [==============================] - 28s 153ms/step - loss: 0.1859\n",
            "Epoch 25/30\n",
            "172/172 [==============================] - 26s 144ms/step - loss: 0.1956\n",
            "Epoch 26/30\n",
            "172/172 [==============================] - 26s 143ms/step - loss: 0.2170\n",
            "Epoch 27/30\n",
            "172/172 [==============================] - 27s 148ms/step - loss: 0.2437\n",
            "Epoch 28/30\n",
            "172/172 [==============================] - 27s 145ms/step - loss: 0.2621\n",
            "Epoch 29/30\n",
            "172/172 [==============================] - 26s 144ms/step - loss: 0.2570\n",
            "Epoch 30/30\n",
            "172/172 [==============================] - 27s 145ms/step - loss: 0.2342\n"
          ]
        }
      ],
      "source": [
        "model.compile(optimizer='adam',\n",
        "              loss=tf.losses.SparseCategoricalCrossentropy(from_logits=True))\n",
        "\n",
        "# Directory where the checkpoints will be saved\n",
        "checkpoint_dir = './training_checkpoints'\n",
        "# Name of the checkpoint files\n",
        "checkpoint_prefix = os.path.join(checkpoint_dir, \"ckpt_{epoch}\")\n",
        "\n",
        "\n",
        "checkpoint_callback = tf.keras.callbacks.ModelCheckpoint(\n",
        "    filepath=checkpoint_prefix,\n",
        "    save_weights_only=True)\n",
        "\n",
        "history = model.fit(dataset,\n",
        "                    epochs=30,\n",
        "                    callbacks=[checkpoint_callback])"
      ]
    },
    {
      "cell_type": "code",
      "source": [
        "# Plotting the learning curve\n",
        "import matplotlib.pyplot as plt\n",
        "\n",
        "plt.figure(figsize=(9, 6))\n",
        "plt.plot(history.history['loss'], label=' Loss')\n",
        "plt.title('Learning curve')\n",
        "plt.xlabel('Epoch')\n",
        "plt.ylabel('Loss')\n",
        "plt.legend()\n"
      ],
      "metadata": {
        "colab": {
          "base_uri": "https://localhost:8080/",
          "height": 581
        },
        "outputId": "9abb6a48-b24e-4866-97fb-6cb67a1e7053",
        "id": "cn7VhVofrvhi"
      },
      "execution_count": null,
      "outputs": [
        {
          "output_type": "execute_result",
          "data": {
            "text/plain": [
              "<matplotlib.legend.Legend at 0x7e2db57986d0>"
            ]
          },
          "metadata": {},
          "execution_count": 32
        },
        {
          "output_type": "display_data",
          "data": {
            "text/plain": [
              "<Figure size 900x600 with 1 Axes>"
            ],
            "image/png": "[encoded data removed]"
          },
          "metadata": {}
        }
      ]
    },
    {
      "cell_type": "markdown",
      "metadata": {
        "id": "zM2mTjTFrvhj"
      },
      "source": [
        "### Generate text"
      ]
    },
    {
      "cell_type": "code",
      "execution_count": null,
      "metadata": {
        "id": "XQBD4jhNrvhj"
      },
      "outputs": [],
      "source": [
        "class OneStep(tf.keras.Model):\n",
        "    def __init__(self, model, chars_from_ids, ids_from_chars, temperature=1.0):\n",
        "        super().__init__()\n",
        "        self.temperature = temperature\n",
        "        self.model = model\n",
        "        self.chars_from_ids = chars_from_ids\n",
        "        self.ids_from_chars = ids_from_chars\n",
        "\n",
        "        # Create a mask to prevent \"[UNK]\" from being generated.\n",
        "        skip_ids = self.ids_from_chars(['[UNK]'])[:, None]\n",
        "        sparse_mask = tf.SparseTensor(\n",
        "            # Put a -inf at each bad index.\n",
        "            values=[-float('inf')]*len(skip_ids),\n",
        "            indices=skip_ids,\n",
        "            # Match the shape to the vocabulary\n",
        "            dense_shape=[len(ids_from_chars.get_vocabulary())])\n",
        "        self.prediction_mask = tf.sparse.to_dense(sparse_mask)\n",
        "\n",
        "    @tf.function\n",
        "    def generate_one_step(self, inputs, states=[None, None]):\n",
        "\n",
        "        input_chars = tf.strings.unicode_split(inputs, 'UTF-8')\n",
        "        input_ids = self.ids_from_chars(input_chars).to_tensor()\n",
        "        predicted_logits, state1, state2 = self.model(inputs=input_ids, states1=states[0], states2=states[1], return_state=True)\n",
        "        new_states = [state1, state2]\n",
        "\n",
        "        predicted_logits = predicted_logits[:, -1, :]\n",
        "        predicted_logits /= self.temperature\n",
        "\n",
        "        predicted_logits += self.prediction_mask\n",
        "\n",
        "\n",
        "        predicted_ids = tf.random.categorical(predicted_logits, num_samples=1)\n",
        "        predicted_ids = tf.squeeze(predicted_ids, axis=-1)\n",
        "\n",
        "\n",
        "        predicted_chars = self.chars_from_ids(predicted_ids)\n",
        "\n",
        "        return predicted_chars, new_states\n",
        "\n",
        "one_step_model = OneStep(model, chars_from_ids, ids_from_chars)"
      ]
    },
    {
      "cell_type": "code",
      "execution_count": null,
      "metadata": {
        "id": "5w-rXu3Hrvhj"
      },
      "outputs": [],
      "source": [
        "start = time.time()\n",
        "\n",
        "# Initial states for each RNN layer\n",
        "states = [None, None]\n",
        "\n",
        "outlist = ['ROMEO:', 'JULIET:', 'HAMLET:', 'MACBETH:', 'OTHELLO:']\n",
        "next_char = tf.constant(outlist)\n",
        "\n",
        "result = [next_char]\n",
        "\n",
        "for n in range(1000):\n",
        "    next_char, states = one_step_model.generate_one_step(next_char, states=states)\n",
        "    result.append(next_char)\n",
        "\n",
        "result = tf.strings.join(result)\n",
        "\n",
        "end = time.time()"
      ]
    },
    {
      "cell_type": "code",
      "source": [
        "for i,text in enumerate(result):\n",
        "  print(f'----------------------- Given name - {outlist[i]}-------------------------------------- ')\n",
        "  print(text.numpy().decode('utf-8'), '\\n\\n' + '_'*80)\n",
        "\n",
        "#print('\\nRun time:', end - start)"
      ],
      "metadata": {
        "colab": {
          "base_uri": "https://localhost:8080/"
        },
        "outputId": "4410cca7-2def-48c2-a329-416496ba13c6",
        "id": "9lX5UFMnrvhj"
      },
      "execution_count": null,
      "outputs": [
        {
          "output_type": "stream",
          "name": "stdout",
          "text": [
            "----------------------- Given name - ROMEO:-------------------------------------- \n",
            "ROMEO:\n",
            "The commons was not they follow.\n",
            "\n",
            "POMPEY:\n",
            "I beseech you, you shall have the muscadel of the house:\n",
            "For God's sake, talk'd with an Rutland Mine honest.\n",
            "\n",
            "TRANIO:\n",
            "Why should you gave us the body of this?\n",
            "Can I do thither.\n",
            "\n",
            "POMPEY:\n",
            "Pray, say God, he that scarce consult me of those pains,\n",
            "That best beseeming of an English queec,\n",
            "And bid her, father, even. Farewell.\n",
            "\n",
            "CORIOLANUS:\n",
            "That's my brave boron'd at hand,\n",
            "That with such vehemency he scoles mine ears\n",
            "Such tidings o'er enough to be my heirs.\n",
            "\n",
            "LEONTES:\n",
            "Proceed:\n",
            "Besides, you voices.\n",
            "\n",
            "MENENIUS:\n",
            "You have stood been a man,--\n",
            "GRUMIO:\n",
            "O, sir, the father's ground.\n",
            "\n",
            "PERDITA:\n",
            "Now Jove of such a gentleman; naw, in word,\n",
            "Then I'll commend her son. Let me not know,\n",
            "My dear son with such moant to be part;\n",
            "We will not yield to his enemies.\n",
            "\n",
            "PRINCE EDWARD:\n",
            "Welcome, my lord, let us avoilt\n",
            "In whold time, hath raised mine,\n",
            "Whene'er the town is full all to be compassion.\n",
            "\n",
            "KING HENRY VI:\n",
            "An if the duke, graved in the heart of Oxford,\n",
            "Stay and Richard, enoug \n",
            "\n",
            "________________________________________________________________________________\n",
            "----------------------- Given name - JULIET:-------------------------------------- \n",
            "JULIET: the charge hath loved him here.\n",
            "How swears a favour with the court,\n",
            "Because she will be very kind.\n",
            "\n",
            "First Senator:\n",
            "Now, sir, is yourge for me: it is as bad?\n",
            "\n",
            "BUCKINGHAM:\n",
            "\n",
            "HASTINGS:\n",
            "My lord,\n",
            "Good night oldes with their complexions by my father.\n",
            "Now thou decland, appresence; news as you are.\n",
            "\n",
            "CLARENCE:\n",
            "Yea, help me! let them have knowledge who I am.\n",
            "Good, all afresh your honour, no;\n",
            "I shall report you: pray you, stand you. For your wants,\n",
            "Your suitful news in them offence and cocklard\n",
            "As those that work me with the execution.\n",
            "As I have kill'd the bridal declines,\n",
            "Can you not stay to be your consul.\n",
            "\n",
            "MONTAGUE:\n",
            "But I'll not call thee fair: you are you as bring\n",
            "He torth to put you to your father's ground?\n",
            "But think'st too much for a hostesate,\n",
            "And made him a pretty fools and return.\n",
            "\n",
            "HORTENSIO:\n",
            "But I shall lie; for I have heard of honour back.\n",
            "\n",
            "NORFOLK:\n",
            "Nor madest her blood, which is here monder\n",
            "The fault of us, and the meat, may should\n",
            "be grafted for your deorance.\n",
            "\n",
            "MENENIUS:\n",
            "Prithee, fel \n",
            "\n",
            "________________________________________________________________________________\n",
            "----------------------- Given name - HAMLET:-------------------------------------- \n",
            "HAMLET:\n",
            "Is alteration of a woman's grave.\n",
            "And who declines me! that he hath cause\n",
            "You are table bed. Alas, the poor Henry's\n",
            "crothes? and then the tender queen?\n",
            "\n",
            "QUEEN MARGARET:\n",
            "Enforced the crown, and Bilder lamys: he had not lived.\n",
            "Tarker not to all that I had murder'd.\n",
            "\n",
            "DUKE VINCENTIO:\n",
            "\n",
            "CORIOLANUS:\n",
            "I will not weep, madam.\n",
            "\n",
            "QUEEN:\n",
            "But to her love convey'd by English dear\n",
            "As thou hast made me each one salt, which has\n",
            "My exceed in some debbert an Edward duke!\n",
            "Why then, to my quarrel? Sure to make leave of him\n",
            "that streams of life, insupfit of many of his country:\n",
            "therefore, bethink-stone not.\n",
            "\n",
            "MARIANA:\n",
            "Isabel,\n",
            "Sweeting that she bid some subther clouds\n",
            "And brave behelding things not some truth\n",
            "To the end of reasons. Tranio,\n",
            "That banish'd, and i' the levil of your device,\n",
            "Be not excellent profane, some books,\n",
            "But to the news and happier and off\n",
            "To wordhy weeping, not to wail;\n",
            "And learn the less and from your body\n",
            "To the end o' the wearing witch cowardice\n",
            "Whose death's swear at your highness' los \n",
            "\n",
            "________________________________________________________________________________\n",
            "----------------------- Given name - MACBETH:-------------------------------------- \n",
            "MACBETH:\n",
            "How came it Claudio?\n",
            "\n",
            "ISABELLA:\n",
            "I know't; I cannot say, yet die my two so directed be content\n",
            "To be spoke to bust away to Ravenspurgh;\n",
            "But in the necks three days with smiles,\n",
            "Where great Keeping eyes of weeping souls,\n",
            "Excolution as a forein answer is to be!\n",
            "Come hither, granners common need; we'll meet both thee and\n",
            "With slender simple guard!\n",
            "\n",
            "DUCHESS OF YORK:\n",
            "Alas, poor breath!\n",
            "\n",
            "DUCHESS OF YORK:\n",
            "A woman, and thou this dear my liege.\n",
            "\n",
            "KING EDWARD IV:\n",
            "Alas, poor Clarence; we may chance to never\n",
            "Or whether 'twixt justice or little.\n",
            "Good my lord, for he is known. He shall possessed you\n",
            "How once penfulent do arms to unfold\n",
            "King Edward be convict by course.\n",
            "\n",
            "HENRY BOLINGBROKE:\n",
            "Bring forth him home, to stand already.\n",
            "\n",
            "ANGELO:\n",
            "We are all farewell.\n",
            "\n",
            "ARIEL:\n",
            "I speak to thee.\n",
            "\n",
            "GRUMIO:\n",
            "Nay, I dare not say son,\n",
            "The power not with the enemies. What would I do?\n",
            "Here come more voice charged to Brittany\n",
            "Which thou soe't, keep your children haste,\n",
            "And manhood is not my friends at seas\n",
            "Happy return in  \n",
            "\n",
            "________________________________________________________________________________\n",
            "----------------------- Given name - OTHELLO:-------------------------------------- \n",
            "OTHELLO:\n",
            "Good morrow to you compair'd, without my pett;\n",
            "And make poor prenecious with the best;\n",
            "And, let your majesty, who dost thou feart\n",
            "Like man in Coriolanus!\n",
            "\n",
            "CORIOLANUS:\n",
            "No more of this; it do you remember:\n",
            "I did let thee want that waiting upon that part.\n",
            "\n",
            "LEONTES:\n",
            "Mark and portent, unhabless to the wanten'd speed\n",
            "The truth of menry of his left cheeks.\n",
            "\n",
            "JOHN OF GAUNT:\n",
            "All places; here in that shriers; and their very heart\n",
            "proceeding, my master, we have begun to strike\n",
            "To vanquish time of this intentious. Be determined,\n",
            "as you are old man, the worse can do you let it fall\n",
            "obbo Post; keeping a well below him, and all\n",
            "contract to be to blame this night.\n",
            "\n",
            "CORIOLANUS:\n",
            "What can you are gentle,\n",
            "I will not yield down.\n",
            "\n",
            "KING RICHARD II:\n",
            "Your royal presence makes us rich, my lord?\n",
            "\n",
            "MARIANA:\n",
            "A desperate beat be blacked; if\n",
            "Who, stay, didst thou? boy you a world of your honour,--\n",
            "Be back'd, to assist not what we came\n",
            "To Bolince from the gentlewoman so show\n",
            "against him. My cousin pound us to fight.\n",
            "\n",
            " \n",
            "\n",
            "________________________________________________________________________________\n"
          ]
        }
      ]
    },
    {
      "cell_type": "markdown",
      "source": [
        "# Discussion\n",
        "**Quality of Generated Text Coherence:**\n",
        "Initially, the generated text might appear random or nonsensical. As the model trains and improves, you'll notice the text becoming more coherent, with sentences making more logical sense. However, achieving perfect coherence, especially over longer text spans, is challenging.\n",
        "Vocabulary and Grammar: Early results often include many grammatical errors and a limited vocabulary. Over time, as the model learns from the training data, the diversity of the vocabulary increases, and grammatical accuracy improves.\n",
        "\n",
        "**The effect of number of epochs and RNN layer**:\n",
        "Increasing the number of epochs during training generally improves the coherence of text generated by RNN models because the model learns more about the structure and patterns in the training data. However, simply adding more RNN layers doesn't guarantee better results and can sometimes make the generated text appear more random. This is because deeper models are harder to train due to issues like vanishing and exploding gradients, and they may overfit to the training data, focusing on minor patterns rather than learning the underlying structure."
      ],
      "metadata": {
        "id": "gbdDiMappvfA"
      }
    }
  ],
  "metadata": {
    "accelerator": "GPU",
    "colab": {
      "provenance": [],
      "gpuType": "T4",
      "collapsed_sections": [
        "WGyKZj3bzf9p",
        "EHDoRoc5PKWz",
        "rNnrKn_lL-IJ",
        "B1X5C7bNw_hN",
        "GCkzQMrkxekX",
        "LJL0Q0YPY6Ee",
        "kKkD5M6eoSiN",
        "2X0RVOUh13SY",
        "ULurRRTg13SZ",
        "rQTOoHMq13SZ",
        "bPe-5NXn2KCK",
        "JaUMxrwL2KCR",
        "h55Awva42KCR",
        "hzbuGeUH2KCS",
        "lrPjAH0wrvhi",
        "uz6U2aS7rvhi"
      ]
    },
    "kernelspec": {
      "display_name": "Python 3",
      "name": "python3"
    }
  },
  "nbformat": 4,
  "nbformat_minor": 0
}